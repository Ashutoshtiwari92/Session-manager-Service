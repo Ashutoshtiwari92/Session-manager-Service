{
 "cells": [
  {
   "cell_type": "code",
   "execution_count": 73,
   "id": "industrial-greeting",
   "metadata": {},
   "outputs": [],
   "source": [
    "import time\n",
    "\n",
    "class sessionManager():\n",
    "    Global_session = 0\n",
    "    def __init__(self, configTime = 5): # value in hrs\n",
    "        self.configTime = configTime\n",
    "        self.Global_session = 0\n",
    "        self.sessionList = []\n",
    "        self.sessionManagement = {}\n",
    "    \n",
    "    def generateSession(self, time):\n",
    "        self.Global_session = self.Global_session + 1\n",
    "        self.sessionManagement[self.Global_session] = time  #discuss\n",
    "        return self.Global_session\n",
    "\n",
    "    def validateSession(self, sessionKey):\n",
    "        \"\"\"\n",
    "        check based on time limit of session less than equal 5\n",
    "        session key value shouldn't be None\n",
    "        session key exist in sessionList as well\n",
    "        \"\"\"\n",
    "        currentTime = 12\n",
    "        if self.sessionManagement[sessionKey] and currentTime - self.sessionManagement[sessionKey] <= self.configTime:\n",
    "            self.sessionManagement[sessionKey] = currentTime\n",
    "            return True\n",
    "        else:\n",
    "            self.deleteSessionTimebase(self.sessionManagement, sessionKey)\n",
    "            \n",
    "        return False\n",
    "        \n",
    "    def deleteSession(self, sessionKey):\n",
    "        \n",
    "        if sessionKey in self.sessionManagement:\n",
    "            self.deleteSessionTimebase(self.sessionManagement, sessionKey)\n",
    "            return True\n",
    "        return \"invalid sessionkey\"\n",
    "            \n",
    "            \n",
    "    def deleteSessionTimebase(self,sessionManagement, sessionKey):\n",
    "        if sessionKey in self.sessionManagement:\n",
    "            self.sessionManagement[sessionKey] = None\n",
    "        else:\n",
    "            return \"invalid session key\"\n",
    "            \n",
    "            \n",
    "        \n",
    "\n",
    "\n",
    "\n",
    "    \n",
    "        \n",
    "        \n",
    "\n",
    "        "
   ]
  },
  {
   "cell_type": "code",
   "execution_count": 82,
   "id": "permanent-chester",
   "metadata": {},
   "outputs": [],
   "source": [
    "obj = sessionManager(10)\n",
    "obj1 = sessionManager(8)\n"
   ]
  },
  {
   "cell_type": "code",
   "execution_count": 83,
   "id": "crazy-award",
   "metadata": {},
   "outputs": [
    {
     "data": {
      "text/plain": [
       "<__main__.sessionManager at 0x60353b8>"
      ]
     },
     "execution_count": 83,
     "metadata": {},
     "output_type": "execute_result"
    }
   ],
   "source": [
    "obj"
   ]
  },
  {
   "cell_type": "code",
   "execution_count": 84,
   "id": "fifty-curve",
   "metadata": {},
   "outputs": [
    {
     "data": {
      "text/plain": [
       "1"
      ]
     },
     "execution_count": 84,
     "metadata": {},
     "output_type": "execute_result"
    }
   ],
   "source": [
    "obj.generateSession(10)"
   ]
  },
  {
   "cell_type": "code",
   "execution_count": 85,
   "id": "meaningful-fields",
   "metadata": {},
   "outputs": [
    {
     "data": {
      "text/plain": [
       "2"
      ]
     },
     "execution_count": 85,
     "metadata": {},
     "output_type": "execute_result"
    }
   ],
   "source": [
    "obj.generateSession(11)"
   ]
  },
  {
   "cell_type": "code",
   "execution_count": 86,
   "id": "advised-separate",
   "metadata": {},
   "outputs": [
    {
     "data": {
      "text/plain": [
       "3"
      ]
     },
     "execution_count": 86,
     "metadata": {},
     "output_type": "execute_result"
    }
   ],
   "source": [
    "obj.generateSession(13)"
   ]
  },
  {
   "cell_type": "code",
   "execution_count": 87,
   "id": "composed-participant",
   "metadata": {},
   "outputs": [
    {
     "data": {
      "text/plain": [
       "True"
      ]
     },
     "execution_count": 87,
     "metadata": {},
     "output_type": "execute_result"
    }
   ],
   "source": [
    "obj.validateSession(3)"
   ]
  },
  {
   "cell_type": "code",
   "execution_count": 88,
   "id": "suffering-retention",
   "metadata": {},
   "outputs": [
    {
     "data": {
      "text/plain": [
       "True"
      ]
     },
     "execution_count": 88,
     "metadata": {},
     "output_type": "execute_result"
    }
   ],
   "source": [
    "obj.deleteSession(3)"
   ]
  },
  {
   "cell_type": "code",
   "execution_count": 89,
   "id": "worse-timer",
   "metadata": {},
   "outputs": [
    {
     "data": {
      "text/plain": [
       "False"
      ]
     },
     "execution_count": 89,
     "metadata": {},
     "output_type": "execute_result"
    }
   ],
   "source": [
    "obj.validateSession(3)"
   ]
  },
  {
   "cell_type": "code",
   "execution_count": 90,
   "id": "accurate-popularity",
   "metadata": {},
   "outputs": [
    {
     "data": {
      "text/plain": [
       "1"
      ]
     },
     "execution_count": 90,
     "metadata": {},
     "output_type": "execute_result"
    }
   ],
   "source": [
    "obj1.generateSession(12)"
   ]
  },
  {
   "cell_type": "code",
   "execution_count": 91,
   "id": "lucky-chosen",
   "metadata": {},
   "outputs": [
    {
     "data": {
      "text/plain": [
       "4"
      ]
     },
     "execution_count": 91,
     "metadata": {},
     "output_type": "execute_result"
    }
   ],
   "source": [
    "obj.generateSession(12)"
   ]
  },
  {
   "cell_type": "code",
   "execution_count": null,
   "id": "central-shirt",
   "metadata": {},
   "outputs": [],
   "source": []
  }
 ],
 "metadata": {
  "kernelspec": {
   "display_name": "Python 3",
   "language": "python",
   "name": "python3"
  },
  "language_info": {
   "codemirror_mode": {
    "name": "ipython",
    "version": 3
   },
   "file_extension": ".py",
   "mimetype": "text/x-python",
   "name": "python",
   "nbconvert_exporter": "python",
   "pygments_lexer": "ipython3",
   "version": "3.8.3"
  }
 },
 "nbformat": 4,
 "nbformat_minor": 5
}
